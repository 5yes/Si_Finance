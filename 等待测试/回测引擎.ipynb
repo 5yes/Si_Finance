{
 "cells": [
  {
   "cell_type": "code",
   "execution_count": 21,
   "outputs": [],
   "source": [
    "import pandas as pd\n",
    "import numpy as np\n",
    "import matplotlib.pyplot as plt\n",
    "from 指标计算 import *\n",
    "\n",
    "plt.rcParams['font.sans-serif']=['SimHei']  # 指定默认字体为黑体\n",
    "plt.rcParams['axes.unicode_minus']=False   # 解决保存图像是负号'-'显示为方块的问题"
   ],
   "metadata": {
    "collapsed": false,
    "ExecuteTime": {
     "start_time": "2023-05-13T14:17:27.775483Z",
     "end_time": "2023-05-13T14:17:27.787996Z"
    }
   }
  },
  {
   "cell_type": "code",
   "execution_count": null,
   "outputs": [],
   "source": [
    "data = cal_main('../DB/GFEX.csv', 'SI')"
   ],
   "metadata": {
    "collapsed": false,
    "ExecuteTime": {
     "start_time": "2023-05-13T12:35:23.631485Z",
     "end_time": "2023-05-13T12:35:23.661019Z"
    }
   }
  },
  {
   "cell_type": "code",
   "execution_count": 22,
   "outputs": [
    {
     "name": "stdout",
     "output_type": "stream",
     "text": [
      "训练集准确率: 0.7457627118644068\n",
      "测试集准确率: 0.65\n"
     ]
    }
   ],
   "source": [
    "from sklearn.ensemble import RandomForestClassifier\n",
    "from sklearn.metrics import accuracy_score\n",
    "from sklearn.preprocessing import StandardScaler\n",
    "\n",
    "# 读取数据\n",
    "data = cal_main('../DB/GFEX.csv', 'SI')\n",
    "rawData = data.copy()\n",
    "# 定义特征和目标变量\n",
    "features = ['open', 'high', 'low', 'close', 'volume', 'open_interest', 'turnover']\n",
    "target = 'next_change'\n",
    "# 对每一列数据进行标准化\n",
    "scaler = StandardScaler()\n",
    "data[features] = scaler.fit_transform(data[features])\n",
    "# 计算涨跌情况\n",
    "data['change'] = data['close'].diff().shift(-1)\n",
    "data['next_change'] = data['change'].apply(lambda x: 1 if x > 0 else 0)\n",
    "# 删除最后一个样本（目标变量为NaN）\n",
    "data.drop(data.index[-1], inplace=True)\n",
    "# 划分数据集为训练集和测试集\n",
    "train_size = int(len(data) * 0.75)\n",
    "train_data = data.iloc[:train_size]\n",
    "test_data = data.iloc[train_size:]\n",
    "# 创建随机森林模型\n",
    "rf = RandomForestClassifier(n_estimators=1, max_depth=3, random_state=0)\n",
    "# 训练模型\n",
    "rf.fit(train_data[features], train_data[target])\n",
    "# 进行预测\n",
    "train_predictions = rf.predict(train_data[features])\n",
    "test_predictions = rf.predict(test_data[features])\n",
    "# 计算模型准确率\n",
    "train_accuracy = accuracy_score(train_data[target], train_predictions)\n",
    "test_accuracy = accuracy_score(test_data[target], test_predictions)\n",
    "\n",
    "print(f'训练集准确率:', train_accuracy)\n",
    "print(f'测试集准确率:', test_accuracy)"
   ],
   "metadata": {
    "collapsed": false,
    "ExecuteTime": {
     "start_time": "2023-05-13T14:17:28.578957Z",
     "end_time": "2023-05-13T14:17:28.602115Z"
    }
   }
  },
  {
   "cell_type": "code",
   "execution_count": 23,
   "outputs": [],
   "source": [
    "pre = np.hstack((train_predictions, test_predictions))\n",
    "signal = np.reshape(pre, (-1, 1))\n",
    "signalNew = pd.DataFrame(signal)\n",
    "signalNew['信号'] = '无'\n",
    "signalNew = signalNew.rename(columns={0: '预测'})\n",
    "\n",
    "for i in range(len(signalNew)):\n",
    "    if i == len(signalNew)-1:\n",
    "        break\n",
    "    if signalNew.at[i, '预测'] != signalNew.at[i+1, '预测'] and signalNew.at[i, '预测'] == 0 :\n",
    "        signalNew.at[i+1, '信号'] = '做多'\n",
    "    if signalNew.at[i, '预测'] != signalNew.at[i+1, '预测'] and signalNew.at[i, '预测'] == 1 :\n",
    "        signalNew.at[i+1, '信号'] = '做空'\n",
    "\n",
    "if signalNew.at[0, '预测'] == 0:\n",
    "    signalNew.at[0, '信号'] = '做空'\n",
    "if signalNew.at[0, '预测'] == 1:\n",
    "    signalNew.at[0, '信号'] = '做多'"
   ],
   "metadata": {
    "collapsed": false,
    "ExecuteTime": {
     "start_time": "2023-05-13T14:17:31.237627Z",
     "end_time": "2023-05-13T14:17:31.255152Z"
    }
   }
  },
  {
   "cell_type": "code",
   "execution_count": null,
   "outputs": [],
   "source": [
    "rawData['信号'] = signalNew['信号']\n",
    "\n",
    "plt.plot(rawData['close'], label='真实值')\n",
    "\n",
    "buy = rawData[rawData['信号'] == '做多']\n",
    "sell = rawData[rawData['信号'] == '做空']\n",
    "\n",
    "plt.scatter(buy.index.tolist(), buy['close'], label='做多', s=10, color='red')\n",
    "plt.scatter(sell.index.tolist(), sell['close'], label='做空', s=10, color='green')"
   ],
   "metadata": {
    "collapsed": false,
    "ExecuteTime": {
     "start_time": "2023-05-13T13:48:26.960427Z",
     "end_time": "2023-05-13T13:48:27.109741Z"
    }
   }
  },
  {
   "cell_type": "code",
   "execution_count": null,
   "metadata": {
    "collapsed": true,
    "ExecuteTime": {
     "start_time": "2023-05-13T13:52:23.976485Z",
     "end_time": "2023-05-13T13:52:24.237436Z"
    }
   },
   "outputs": [],
   "source": [
    "from datetime import datetime\n",
    "import backtrader as bt\n",
    "from 指标计算 import *\n",
    "\n",
    "# 创建一个策略的子类来定义指标和逻辑\n",
    "class SmaCross(bt.Strategy):\n",
    "    # 可配置的策略参数列表\n",
    "    params = dict(\n",
    "        pfast=3,  # 快速移动平均线的周期\n",
    "        pslow=5   # 慢速移动平均线的周期\n",
    "    )\n",
    "\n",
    "    def __init__(self):\n",
    "        # sma1 = bt.ind.SMA(period=self.p.pfast)  # 快速移动平均线\n",
    "        # sma2 = bt.ind.SMA(period=self.p.pslow)  # 慢速移动平均线\n",
    "        # self.crossover = bt.ind.CrossOver(sma1, sma2)  # 交叉信号指标\n",
    "        self.signal = signalNew['信号']\n",
    "\n",
    "    def next(self):\n",
    "        day = len(self) - 1\n",
    "        print('当前方向', self.signal[day])\n",
    "        # 不在市场中\n",
    "        if not self.position:\n",
    "            # 通用指定\n",
    "            if self.signal[day] == '做多':\n",
    "                self.buy()\n",
    "            if self.signal[day] == '做空':\n",
    "                self.sell()\n",
    "        # 在市场中\n",
    "        if self.position:\n",
    "            if self.position.size > 0 and self.signal[day] == '做空':\n",
    "                self.close()\n",
    "                self.sell()\n",
    "            if self.position.size < 0 and self.signal[day] == '做多':\n",
    "                self.close()\n",
    "                self.buy()\n",
    "\n",
    "\n",
    "\n",
    "cerebro = bt.Cerebro()  # 创建一个\"Cerebro\"引擎实例\n",
    "\n",
    "# 创建数据源\n",
    "data = cal_main('../DB/GFEX.csv', 'SI')\n",
    "data['date'] = pd.to_datetime(data['date'], format='%Y%m%d')\n",
    "data = data.set_index('date')\n",
    "start_date = datetime(2022, 12, 22)  # 回测开始时间\n",
    "end_date = datetime(2023, 4, 20)  # 回测结束时间\n",
    "data = bt.feeds.PandasData(dataname=data, fromdate=start_date, todate=end_date)\n",
    "\n",
    "cerebro.adddata(data)  # 添加数据源\n",
    "cerebro.broker.setcash(1000000.0)\n",
    "cerebro.broker.setcommission(commission=0.001)\n",
    "cerebro.addsizer(bt.sizers.FixedSize, stake=18)\n",
    "cerebro.addstrategy(SmaCross)  # 添加交易策略\n",
    "cerebro.run()  # 运行回测\n",
    "cerebro.plot()  # 使用一个命令进行绘图"
   ]
  }
 ],
 "metadata": {
  "kernelspec": {
   "display_name": "Python 3",
   "language": "python",
   "name": "python3"
  },
  "language_info": {
   "codemirror_mode": {
    "name": "ipython",
    "version": 2
   },
   "file_extension": ".py",
   "mimetype": "text/x-python",
   "name": "python",
   "nbconvert_exporter": "python",
   "pygments_lexer": "ipython2",
   "version": "2.7.6"
  }
 },
 "nbformat": 4,
 "nbformat_minor": 0
}
